{
  "nbformat": 4,
  "nbformat_minor": 0,
  "metadata": {
    "colab": {
      "provenance": []
    },
    "kernelspec": {
      "name": "python3",
      "display_name": "Python 3"
    },
    "language_info": {
      "name": "python"
    }
  },
  "cells": [
    {
      "cell_type": "markdown",
      "source": [
        "STATISTICS PRACTICAL IMPLEMENTATION"
      ],
      "metadata": {
        "id": "xmaH-L9YfYHW"
      }
    },
    {
      "cell_type": "markdown",
      "source": [
        "1.mean\n",
        "2.median\n",
        "3.mode"
      ],
      "metadata": {
        "id": "eJCXuqZZfjKU"
      }
    },
    {
      "cell_type": "code",
      "execution_count": 3,
      "metadata": {
        "id": "a1x_d-U7ztx0"
      },
      "outputs": [],
      "source": [
        "ages=[23,24,32,45,12,43,67,45,32,56,32,120]"
      ]
    },
    {
      "cell_type": "code",
      "source": [
        "import numpy as np\n",
        "print(np.mean(ages))\n",
        "print(np.median(ages))"
      ],
      "metadata": {
        "colab": {
          "base_uri": "https://localhost:8080/"
        },
        "id": "GVWCsWZv_r8j",
        "outputId": "311ad551-8888-44ad-a65c-bf7d8f771cee"
      },
      "execution_count": 4,
      "outputs": [
        {
          "output_type": "stream",
          "name": "stdout",
          "text": [
            "44.25\n",
            "37.5\n"
          ]
        }
      ]
    },
    {
      "cell_type": "code",
      "source": [
        "import statistics \n",
        "print(statistics.mean(ages))\n",
        "print(statistics.median(ages))"
      ],
      "metadata": {
        "colab": {
          "base_uri": "https://localhost:8080/"
        },
        "id": "AREiQYWv_2FI",
        "outputId": "78b1b3f4-cefc-4975-9d39-8c533b09ef97"
      },
      "execution_count": 5,
      "outputs": [
        {
          "output_type": "stream",
          "name": "stdout",
          "text": [
            "44.25\n",
            "37.5\n"
          ]
        }
      ]
    },
    {
      "cell_type": "code",
      "source": [
        "print(statistics.mode(ages))"
      ],
      "metadata": {
        "colab": {
          "base_uri": "https://localhost:8080/"
        },
        "id": "9JRRGSJ6ADSn",
        "outputId": "6f02168e-93a4-4118-bc84-1e4a29e44e85"
      },
      "execution_count": 6,
      "outputs": [
        {
          "output_type": "stream",
          "name": "stdout",
          "text": [
            "32\n"
          ]
        }
      ]
    },
    {
      "cell_type": "code",
      "source": [
        "import seaborn as sns\n",
        "sns.boxplot(ages)"
      ],
      "metadata": {
        "colab": {
          "base_uri": "https://localhost:8080/",
          "height": 337
        },
        "id": "l64ML7HoFmzi",
        "outputId": "70752777-40dc-45d3-d5ac-36a114615670"
      },
      "execution_count": 7,
      "outputs": [
        {
          "output_type": "stream",
          "name": "stderr",
          "text": [
            "/usr/local/lib/python3.7/dist-packages/seaborn/_decorators.py:43: FutureWarning: Pass the following variable as a keyword arg: x. From version 0.12, the only valid positional argument will be `data`, and passing other arguments without an explicit keyword will result in an error or misinterpretation.\n",
            "  FutureWarning\n"
          ]
        },
        {
          "output_type": "execute_result",
          "data": {
            "text/plain": [
              "<matplotlib.axes._subplots.AxesSubplot at 0x7f2ab2e844d0>"
            ]
          },
          "metadata": {},
          "execution_count": 7
        },
        {
          "output_type": "display_data",
          "data": {
            "text/plain": [
              "<Figure size 432x288 with 1 Axes>"
            ],
            "image/png": "[encoded data removed]"
          },
          "metadata": {
            "needs_background": "light"
          }
        }
      ]
    },
    {
      "cell_type": "markdown",
      "source": [
        "5 Number summary"
      ],
      "metadata": {
        "id": "kxui8iSdFvwI"
      }
    },
    {
      "cell_type": "code",
      "source": [
        "import numpy as np\n",
        "q1,q3=np.percentile(ages,[25,75])"
      ],
      "metadata": {
        "id": "h__vo1BNFyjC"
      },
      "execution_count": 8,
      "outputs": []
    },
    {
      "cell_type": "code",
      "source": [
        "print(q1,q3)"
      ],
      "metadata": {
        "colab": {
          "base_uri": "https://localhost:8080/"
        },
        "id": "toFmsYk4GCBi",
        "outputId": "dc6cc766-86c0-4eed-f2f6-e082fc455af3"
      },
      "execution_count": 9,
      "outputs": [
        {
          "output_type": "stream",
          "name": "stdout",
          "text": [
            "30.0 47.75\n"
          ]
        }
      ]
    },
    {
      "cell_type": "code",
      "source": [
        "## to check outlier[Lower Fence- Higher fence]\n",
        "IQR=q3-q1\n",
        "lower_fence=q1-1.5*(IQR)\n",
        "higher_fence=q3+1.5*(IQR)\n",
        "print(lower_fence,higher_fence)"
      ],
      "metadata": {
        "colab": {
          "base_uri": "https://localhost:8080/"
        },
        "id": "0Sssmt5JGDqK",
        "outputId": "f2442953-b8e2-44bb-d5a5-f7abe7583674"
      },
      "execution_count": 10,
      "outputs": [
        {
          "output_type": "stream",
          "name": "stdout",
          "text": [
            "3.375 74.375\n"
          ]
        }
      ]
    },
    {
      "cell_type": "markdown",
      "source": [
        "Measure of dispersion"
      ],
      "metadata": {
        "id": "PoOP05ZsGN98"
      }
    },
    {
      "cell_type": "markdown",
      "source": [
        "1.Variance\n",
        "2.standard deviation"
      ],
      "metadata": {
        "id": "T9E7UgXUGSj3"
      }
    },
    {
      "cell_type": "code",
      "source": [
        "statistics.variance(ages)  #sample variance /n-1"
      ],
      "metadata": {
        "colab": {
          "base_uri": "https://localhost:8080/"
        },
        "id": "639tzaStGLQW",
        "outputId": "c4358f2a-6c7b-4a92-e1a3-9dbb305f6ac2"
      },
      "execution_count": 11,
      "outputs": [
        {
          "output_type": "execute_result",
          "data": {
            "text/plain": [
              "795.2954545454545"
            ]
          },
          "metadata": {},
          "execution_count": 11
        }
      ]
    },
    {
      "cell_type": "code",
      "source": [
        "np.var(ages)   #population variance /n"
      ],
      "metadata": {
        "colab": {
          "base_uri": "https://localhost:8080/"
        },
        "id": "Ouw0j9dIGbbM",
        "outputId": "35ec6ef0-cf1d-4e3b-bfbc-27228567b090"
      },
      "execution_count": 12,
      "outputs": [
        {
          "output_type": "execute_result",
          "data": {
            "text/plain": [
              "729.0208333333334"
            ]
          },
          "metadata": {},
          "execution_count": 12
        }
      ]
    },
    {
      "cell_type": "code",
      "source": [
        "def variance(data):   #manually will do sample variance\n",
        "  n=len(ages)\n",
        "  ## mean of the data\n",
        "  mean=sum(data)/n\n",
        "  ## variance\n",
        "  deviation=[(x - mean) ** 2 for x in data]\n",
        "  variance=sum(deviation)/(n-1)\n",
        "  return variance\n"
      ],
      "metadata": {
        "id": "OtlwahcLGevQ"
      },
      "execution_count": 13,
      "outputs": []
    },
    {
      "cell_type": "code",
      "source": [
        "variance(ages)"
      ],
      "metadata": {
        "colab": {
          "base_uri": "https://localhost:8080/"
        },
        "id": "a26am5AYHNmT",
        "outputId": "b4a0692f-580d-4307-d1a8-c36835816a75"
      },
      "execution_count": 14,
      "outputs": [
        {
          "output_type": "execute_result",
          "data": {
            "text/plain": [
              "795.2954545454545"
            ]
          },
          "metadata": {},
          "execution_count": 14
        }
      ]
    },
    {
      "cell_type": "code",
      "source": [
        "def variance(data,dof=0):   # #manually will population variance\n",
        "  n=len(ages)\n",
        "  ## mean of the data\n",
        "  mean=sum(data)/n\n",
        "  ## variance\n",
        "  deviation=[(x - mean) ** 2 for x in data]\n",
        "  variance=sum(deviation)/(n-dof)\n",
        "  return variance\n"
      ],
      "metadata": {
        "id": "f6BVKHjmHRsq"
      },
      "execution_count": 15,
      "outputs": []
    },
    {
      "cell_type": "code",
      "source": [
        "variance(ages,dof=0)  "
      ],
      "metadata": {
        "colab": {
          "base_uri": "https://localhost:8080/"
        },
        "id": "2Q8b3qw2HYxs",
        "outputId": "5827254c-4130-4bd1-c484-4cc398db67ed"
      },
      "execution_count": 16,
      "outputs": [
        {
          "output_type": "execute_result",
          "data": {
            "text/plain": [
              "729.0208333333334"
            ]
          },
          "metadata": {},
          "execution_count": 16
        }
      ]
    },
    {
      "cell_type": "code",
      "source": [
        "import math\n",
        "math.sqrt(statistics.pvariance(ages))       "
      ],
      "metadata": {
        "colab": {
          "base_uri": "https://localhost:8080/"
        },
        "id": "tQK5U_LXHd4f",
        "outputId": "7a0438b4-7c40-456d-b34a-d8282a2f8cde"
      },
      "execution_count": 17,
      "outputs": [
        {
          "output_type": "execute_result",
          "data": {
            "text/plain": [
              "27.000385799712813"
            ]
          },
          "metadata": {},
          "execution_count": 17
        }
      ]
    },
    {
      "cell_type": "markdown",
      "source": [
        "Histograms and PDF"
      ],
      "metadata": {
        "id": "3g6oY3n0H4Lg"
      }
    },
    {
      "cell_type": "code",
      "source": [
        "import seaborn as sns\n",
        "sns.histplot(ages,kde=True)"
      ],
      "metadata": {
        "colab": {
          "base_uri": "https://localhost:8080/",
          "height": 282
        },
        "id": "cOrGPvZlHxh7",
        "outputId": "0e18f2d1-2f6b-46f8-b6cd-8505ba27abdb"
      },
      "execution_count": 18,
      "outputs": [
        {
          "output_type": "execute_result",
          "data": {
            "text/plain": [
              "<matplotlib.axes._subplots.AxesSubplot at 0x7f2ab6385090>"
            ]
          },
          "metadata": {},
          "execution_count": 18
        },
        {
          "output_type": "display_data",
          "data": {
            "text/plain": [
              "<Figure size 432x288 with 1 Axes>"
            ],
            "image/png": "[encoded data removed]"
          },
          "metadata": {
            "needs_background": "light"
          }
        }
      ]
    },
    {
      "cell_type": "code",
      "source": [
        "df=sns.load_dataset('iris')"
      ],
      "metadata": {
        "id": "-9lWj7LOH9OT"
      },
      "execution_count": 19,
      "outputs": []
    },
    {
      "cell_type": "code",
      "source": [
        "df.head()"
      ],
      "metadata": {
        "colab": {
          "base_uri": "https://localhost:8080/",
          "height": 206
        },
        "id": "ULqpW6oCIDzh",
        "outputId": "51a9471b-6a61-4cd7-9698-100457149140"
      },
      "execution_count": 20,
      "outputs": [
        {
          "output_type": "execute_result",
          "data": {
            "text/plain": [
              "   sepal_length  sepal_width  petal_length  petal_width species\n",
              "0           5.1          3.5           1.4          0.2  setosa\n",
              "1           4.9          3.0           1.4          0.2  setosa\n",
              "2           4.7          3.2           1.3          0.2  setosa\n",
              "3           4.6          3.1           1.5          0.2  setosa\n",
              "4           5.0          3.6           1.4          0.2  setosa"
            ],
            "text/html": [
              "\n",
              "  <div id=\"df-38625629-5810-49ac-aa38-247ce2555e27\">\n",
              "    <div class=\"colab-df-container\">\n",
              "      <div>\n",
              "<style scoped>\n",
              "    .dataframe tbody tr th:only-of-type {\n",
              "        vertical-align: middle;\n",
              "    }\n",
              "\n",
              "    .dataframe tbody tr th {\n",
              "        vertical-align: top;\n",
              "    }\n",
              "\n",
              "    .dataframe thead th {\n",
              "        text-align: right;\n",
              "    }\n",
              "</style>\n",
              "<table border=\"1\" class=\"dataframe\">\n",
              "  <thead>\n",
              "    <tr style=\"text-align: right;\">\n",
              "      <th></th>\n",
              "      <th>sepal_length</th>\n",
              "      <th>sepal_width</th>\n",
              "      <th>petal_length</th>\n",
              "      <th>petal_width</th>\n",
              "      <th>species</th>\n",
              "    </tr>\n",
              "  </thead>\n",
              "  <tbody>\n",
              "    <tr>\n",
              "      <th>0</th>\n",
              "      <td>5.1</td>\n",
              "      <td>3.5</td>\n",
              "      <td>1.4</td>\n",
              "      <td>0.2</td>\n",
              "      <td>setosa</td>\n",
              "    </tr>\n",
              "    <tr>\n",
              "      <th>1</th>\n",
              "      <td>4.9</td>\n",
              "      <td>3.0</td>\n",
              "      <td>1.4</td>\n",
              "      <td>0.2</td>\n",
              "      <td>setosa</td>\n",
              "    </tr>\n",
              "    <tr>\n",
              "      <th>2</th>\n",
              "      <td>4.7</td>\n",
              "      <td>3.2</td>\n",
              "      <td>1.3</td>\n",
              "      <td>0.2</td>\n",
              "      <td>setosa</td>\n",
              "    </tr>\n",
              "    <tr>\n",
              "      <th>3</th>\n",
              "      <td>4.6</td>\n",
              "      <td>3.1</td>\n",
              "      <td>1.5</td>\n",
              "      <td>0.2</td>\n",
              "      <td>setosa</td>\n",
              "    </tr>\n",
              "    <tr>\n",
              "      <th>4</th>\n",
              "      <td>5.0</td>\n",
              "      <td>3.6</td>\n",
              "      <td>1.4</td>\n",
              "      <td>0.2</td>\n",
              "      <td>setosa</td>\n",
              "    </tr>\n",
              "  </tbody>\n",
              "</table>\n",
              "</div>\n",
              "      <button class=\"colab-df-convert\" onclick=\"convertToInteractive('df-38625629-5810-49ac-aa38-247ce2555e27')\"\n",
              "              title=\"Convert this dataframe to an interactive table.\"\n",
              "              style=\"display:none;\">\n",
              "        \n",
              "  <svg xmlns=\"http://www.w3.org/2000/svg\" height=\"24px\"viewBox=\"0 0 24 24\"\n",
              "       width=\"24px\">\n",
              "    <path d=\"M0 0h24v24H0V0z\" fill=\"none\"/>\n",
              "    <path d=\"M18.56 5.44l.94 2.06.94-2.06 2.06-.94-2.06-.94-.94-2.06-.94 2.06-2.06.94zm-11 1L8.5 8.5l.94-2.06 2.06-.94-2.06-.94L8.5 2.5l-.94 2.06-2.06.94zm10 10l.94 2.06.94-2.06 2.06-.94-2.06-.94-.94-2.06-.94 2.06-2.06.94z\"/><path d=\"M17.41 7.96l-1.37-1.37c-.4-.4-.92-.59-1.43-.59-.52 0-1.04.2-1.43.59L10.3 9.45l-7.72 7.72c-.78.78-.78 2.05 0 2.83L4 21.41c.39.39.9.59 1.41.59.51 0 1.02-.2 1.41-.59l7.78-7.78 2.81-2.81c.8-.78.8-2.07 0-2.86zM5.41 20L4 18.59l7.72-7.72 1.47 1.35L5.41 20z\"/>\n",
              "  </svg>\n",
              "      </button>\n",
              "      \n",
              "  <style>\n",
              "    .colab-df-container {\n",
              "      display:flex;\n",
              "      flex-wrap:wrap;\n",
              "      gap: 12px;\n",
              "    }\n",
              "\n",
              "    .colab-df-convert {\n",
              "      background-color: #E8F0FE;\n",
              "      border: none;\n",
              "      border-radius: 50%;\n",
              "      cursor: pointer;\n",
              "      display: none;\n",
              "      fill: #1967D2;\n",
              "      height: 32px;\n",
              "      padding: 0 0 0 0;\n",
              "      width: 32px;\n",
              "    }\n",
              "\n",
              "    .colab-df-convert:hover {\n",
              "      background-color: #E2EBFA;\n",
              "      box-shadow: 0px 1px 2px rgba(60, 64, 67, 0.3), 0px 1px 3px 1px rgba(60, 64, 67, 0.15);\n",
              "      fill: #174EA6;\n",
              "    }\n",
              "\n",
              "    [theme=dark] .colab-df-convert {\n",
              "      background-color: #3B4455;\n",
              "      fill: #D2E3FC;\n",
              "    }\n",
              "\n",
              "    [theme=dark] .colab-df-convert:hover {\n",
              "      background-color: #434B5C;\n",
              "      box-shadow: 0px 1px 3px 1px rgba(0, 0, 0, 0.15);\n",
              "      filter: drop-shadow(0px 1px 2px rgba(0, 0, 0, 0.3));\n",
              "      fill: #FFFFFF;\n",
              "    }\n",
              "  </style>\n",
              "\n",
              "      <script>\n",
              "        const buttonEl =\n",
              "          document.querySelector('#df-38625629-5810-49ac-aa38-247ce2555e27 button.colab-df-convert');\n",
              "        buttonEl.style.display =\n",
              "          google.colab.kernel.accessAllowed ? 'block' : 'none';\n",
              "\n",
              "        async function convertToInteractive(key) {\n",
              "          const element = document.querySelector('#df-38625629-5810-49ac-aa38-247ce2555e27');\n",
              "          const dataTable =\n",
              "            await google.colab.kernel.invokeFunction('convertToInteractive',\n",
              "                                                     [key], {});\n",
              "          if (!dataTable) return;\n",
              "\n",
              "          const docLinkHtml = 'Like what you see? Visit the ' +\n",
              "            '<a target=\"_blank\" href=https://colab.research.google.com/notebooks/data_table.ipynb>data table notebook</a>'\n",
              "            + ' to learn more about interactive tables.';\n",
              "          element.innerHTML = '';\n",
              "          dataTable['output_type'] = 'display_data';\n",
              "          await google.colab.output.renderOutput(dataTable, element);\n",
              "          const docLink = document.createElement('div');\n",
              "          docLink.innerHTML = docLinkHtml;\n",
              "          element.appendChild(docLink);\n",
              "        }\n",
              "      </script>\n",
              "    </div>\n",
              "  </div>\n",
              "  "
            ]
          },
          "metadata": {},
          "execution_count": 20
        }
      ]
    },
    {
      "cell_type": "code",
      "source": [
        "sns.histplot(df['petal_length'],kde=True)"
      ],
      "metadata": {
        "colab": {
          "base_uri": "https://localhost:8080/",
          "height": 297
        },
        "id": "jIl9ga9KIGFE",
        "outputId": "58869dea-f108-4faf-8964-6c5ed13455d0"
      },
      "execution_count": 21,
      "outputs": [
        {
          "output_type": "execute_result",
          "data": {
            "text/plain": [
              "<matplotlib.axes._subplots.AxesSubplot at 0x7f2ab2182a90>"
            ]
          },
          "metadata": {},
          "execution_count": 21
        },
        {
          "output_type": "display_data",
          "data": {
            "text/plain": [
              "<Figure size 432x288 with 1 Axes>"
            ],
            "image/png": "[encoded data removed]"
          },
          "metadata": {
            "needs_background": "light"
          }
        }
      ]
    },
    {
      "cell_type": "code",
      "source": [
        "sns.histplot(df['sepal_width'],kde=True)"
      ],
      "metadata": {
        "colab": {
          "base_uri": "https://localhost:8080/",
          "height": 297
        },
        "id": "jSkhv4gXIRZp",
        "outputId": "125f5f6f-0921-438f-9a9b-af2567998d8b"
      },
      "execution_count": 22,
      "outputs": [
        {
          "output_type": "execute_result",
          "data": {
            "text/plain": [
              "<matplotlib.axes._subplots.AxesSubplot at 0x7f2ab2147890>"
            ]
          },
          "metadata": {},
          "execution_count": 22
        },
        {
          "output_type": "display_data",
          "data": {
            "text/plain": [
              "<Figure size 432x288 with 1 Axes>"
            ],
            "image/png": "[encoded data removed]"
          },
          "metadata": {
            "needs_background": "light"
          }
        }
      ]
    },
    {
      "cell_type": "code",
      "source": [
        "sns.histplot(df['sepal_length'],kde=True)"
      ],
      "metadata": {
        "colab": {
          "base_uri": "https://localhost:8080/",
          "height": 297
        },
        "id": "6-Vp_wOIIbs6",
        "outputId": "80e47a58-f290-4b13-b25e-06ebdaff97c6"
      },
      "execution_count": 23,
      "outputs": [
        {
          "output_type": "execute_result",
          "data": {
            "text/plain": [
              "<matplotlib.axes._subplots.AxesSubplot at 0x7f2ab20729d0>"
            ]
          },
          "metadata": {},
          "execution_count": 23
        },
        {
          "output_type": "display_data",
          "data": {
            "text/plain": [
              "<Figure size 432x288 with 1 Axes>"
            ],
            "image/png": "[encoded data removed]"
          },
          "metadata": {
            "needs_background": "light"
          }
        }
      ]
    },
    {
      "cell_type": "code",
      "source": [
        "sns.histplot(df['petal_width'],kde=True)"
      ],
      "metadata": {
        "colab": {
          "base_uri": "https://localhost:8080/",
          "height": 297
        },
        "id": "igQVKxsxIedX",
        "outputId": "fc509e78-f128-42eb-8e4c-876d02d9e87c"
      },
      "execution_count": 24,
      "outputs": [
        {
          "output_type": "execute_result",
          "data": {
            "text/plain": [
              "<matplotlib.axes._subplots.AxesSubplot at 0x7f2ab1fb2750>"
            ]
          },
          "metadata": {},
          "execution_count": 24
        },
        {
          "output_type": "display_data",
          "data": {
            "text/plain": [
              "<Figure size 432x288 with 1 Axes>"
            ],
            "image/png": "[encoded data removed]"
          },
          "metadata": {
            "needs_background": "light"
          }
        }
      ]
    },
    {
      "cell_type": "code",
      "source": [
        "## create a normal distributed data\n",
        "s=np.random.normal(0.5,0.2,1000)"
      ],
      "metadata": {
        "id": "0YEHxXPDIg0Z"
      },
      "execution_count": 25,
      "outputs": []
    },
    {
      "cell_type": "code",
      "source": [
        "s"
      ],
      "metadata": {
        "colab": {
          "base_uri": "https://localhost:8080/"
        },
        "id": "7VXwuKa_InDu",
        "outputId": "d0740d24-fc14-4078-aed5-bd9c653adb86"
      },
      "execution_count": 26,
      "outputs": [
        {
          "output_type": "execute_result",
          "data": {
            "text/plain": [
              "array([ 0.09322833,  0.29059256,  0.3932264 ,  0.49490983,  0.8255862 ,\n",
              "        0.48734431,  0.61046245,  0.42903436,  0.61208098,  0.65724146,\n",
              "        0.54744369,  0.36584625,  0.33978981,  0.24975475,  0.67981089,\n",
              "        0.46169135,  0.7044047 ,  0.80992954,  0.41825837,  1.06008586,\n",
              "        0.37829739,  0.48112608,  0.78793903,  0.24269594,  0.765796  ,\n",
              "        0.53492343,  0.42226524,  0.76455537,  0.46781704,  0.44135503,\n",
              "        0.42207732,  0.52905703,  0.32527946,  0.51269864,  0.15855185,\n",
              "        0.3564602 ,  0.60749342,  0.08176098,  0.73468633,  0.68946144,\n",
              "        0.44984818,  0.41853004,  0.56942107,  0.68727008,  0.51563163,\n",
              "        0.43761205,  0.75653794,  0.58141459,  0.24994966,  0.80601176,\n",
              "        0.44171701,  0.63026269,  0.47549147,  0.2179088 ,  0.51190058,\n",
              "        0.39518207,  0.75653494,  0.09547027,  0.26454744,  0.72310677,\n",
              "        0.71385265,  1.09522212,  0.53710614,  0.37811727,  0.48161778,\n",
              "        0.53217635,  0.83579262,  0.64256011,  0.42305424,  0.22173659,\n",
              "        0.54602453,  0.4962215 ,  1.00662344,  0.60588611,  0.51657181,\n",
              "        0.55886038,  0.64105397,  0.58642286,  0.11811553,  0.30668702,\n",
              "        0.54092666,  0.73112938,  0.5967213 ,  0.59318776,  0.45871948,\n",
              "        0.65515482,  0.26049728,  0.57102264,  0.39958728,  0.21692758,\n",
              "        0.50701277,  0.96175485,  0.65449761,  0.61040003,  0.5470947 ,\n",
              "        0.53516097,  0.34828972,  1.08975917,  0.47314039,  0.79418064,\n",
              "        0.34915502,  0.03308831,  0.3975852 ,  0.33363543,  0.56217013,\n",
              "        0.93671726,  0.49707148,  0.19716387,  0.78052685,  0.56055428,\n",
              "        0.63961578,  0.26762132,  0.58538169,  0.57219113,  0.58646969,\n",
              "        0.58729108,  0.60781171,  0.44943301,  0.51727576,  0.61532102,\n",
              "        0.56330413,  0.51947465,  0.85780578,  0.72889584,  0.59568878,\n",
              "        0.19910993,  0.33731422,  0.63076803,  0.49681005,  0.79103678,\n",
              "        0.60801566,  0.61820847,  0.46235927,  0.42131551,  0.36507968,\n",
              "        0.48578356,  0.54902668,  0.43374153,  0.13559119,  0.53438369,\n",
              "        0.63778807,  0.49154263,  0.28164954,  0.55006132,  0.33073068,\n",
              "        0.42134035,  0.5502916 ,  0.28619001,  0.57624615,  0.11404249,\n",
              "        0.65046892,  0.43747563,  0.36147249,  0.40682131,  0.58408473,\n",
              "        0.65167083,  0.6595272 ,  0.29807932,  0.45111312,  0.59201795,\n",
              "        0.23737924,  0.33921789,  0.40960167,  0.4910261 ,  0.62250782,\n",
              "        0.24927555,  0.6073401 ,  0.46970962,  0.44936689,  0.32585485,\n",
              "        0.63192896,  0.6146963 ,  0.40171218,  0.41085091,  0.66620431,\n",
              "        0.6792616 ,  0.49484837,  0.1493655 ,  0.92909624,  0.21857044,\n",
              "        0.15267258,  0.67809726,  1.03394847,  0.55408196,  0.65193323,\n",
              "        0.12042556,  0.21439334,  0.30240891,  0.52691529,  0.38247555,\n",
              "        0.40794509,  0.76714587,  0.79513845,  0.53945897,  0.77009246,\n",
              "        0.07576395,  0.70204627,  0.57653574,  0.8745082 ,  0.64661548,\n",
              "        0.69437909,  0.45333797,  0.40110707,  0.47256549,  0.58369991,\n",
              "        0.66182198,  0.7821676 ,  0.5786472 ,  0.626256  ,  0.24250315,\n",
              "        0.9071377 ,  0.15426464,  1.01801192,  0.4253291 ,  0.57986702,\n",
              "        0.79136749,  0.47046988,  0.53798183,  0.69989652,  0.54679826,\n",
              "        0.4231627 ,  0.26514901,  0.47300807,  0.45357389,  0.86845021,\n",
              "        0.23090018,  0.60774079,  0.33267896,  0.6242765 ,  0.4752304 ,\n",
              "        0.64805211,  0.2578784 ,  0.63575618,  0.64236865,  0.55112798,\n",
              "        0.29989519,  0.71926006,  0.71164374,  0.22491939,  0.56198317,\n",
              "        0.39651313,  0.44103344,  0.59001251,  0.89225692,  0.34476649,\n",
              "        0.83708225,  0.73993152,  0.63601788,  0.60296379,  0.84226981,\n",
              "        0.70830756,  0.64119767,  0.7062437 ,  0.3959845 ,  0.79838515,\n",
              "        0.59940102,  0.81453345,  0.31911609,  0.55205346,  0.38723436,\n",
              "        0.22589482,  0.74399953,  0.34347633,  0.53136047,  0.34689627,\n",
              "        0.41802899,  0.48604541,  0.67654039,  0.15533837,  0.42944046,\n",
              "        0.49251216,  0.37576073,  0.61107765,  0.64945326,  0.45022729,\n",
              "        0.49658088,  0.61396049,  0.18667353,  0.46677031,  0.63317512,\n",
              "        0.69327306,  0.66969815, -0.04262609,  0.31459611,  0.67055015,\n",
              "        0.3570064 ,  0.55543869,  0.53993919,  0.61080825,  0.51493887,\n",
              "        0.35612521,  0.61925158,  0.4550809 ,  0.78271347,  0.7056901 ,\n",
              "        0.76869671,  0.42510192,  0.22007248,  0.35913317,  0.72132599,\n",
              "        0.11234632,  0.01264623,  0.26289161,  0.66669629,  0.44586231,\n",
              "        0.48265361,  0.57175119,  0.32689042,  0.38437746,  0.16177243,\n",
              "        0.59313529,  0.10221102,  0.56409101,  0.20682556,  0.49856169,\n",
              "        0.55646461,  0.45309856,  0.66907956,  0.63303309,  0.04916048,\n",
              "        0.61079693,  0.4549422 ,  0.54837201,  0.46362895,  0.31683577,\n",
              "        0.23454581,  0.02583068,  0.52788149,  0.70488441,  0.40170648,\n",
              "       -0.05487326,  0.51639357,  0.05235346,  0.52501199,  0.39440354,\n",
              "        0.15753821,  0.53758933,  0.27875285,  0.64816626,  0.95919188,\n",
              "        0.33496821,  0.75354685,  0.4681343 ,  0.15213564,  0.43386138,\n",
              "        0.49417372,  0.29698123,  0.72485413,  0.58090988,  0.80944427,\n",
              "        0.30254944,  0.65694801,  0.45472662,  0.22871198,  0.50208381,\n",
              "        0.71249327,  0.50759221,  0.25382815,  0.56322548,  0.70611861,\n",
              "        0.6111989 ,  0.62495917,  0.37317403,  0.62586137,  0.56516064,\n",
              "        0.35540372,  0.81172808,  0.63360437,  0.67515503,  0.69090133,\n",
              "        0.77600237,  0.91061981,  0.64430719,  0.9255918 ,  0.4535802 ,\n",
              "        0.75630226,  0.22091898,  0.68660796,  0.25748669,  0.39977901,\n",
              "        0.84727341,  0.32141477,  0.32226023,  0.71128884,  0.58955547,\n",
              "        0.42121518,  0.46650965,  0.5306679 ,  0.15198343,  0.59322337,\n",
              "        0.28203801,  0.78382869,  0.5765434 ,  0.41230637,  0.56601645,\n",
              "        0.61558983,  0.39021377,  0.6737565 ,  0.4036696 ,  0.58392021,\n",
              "        0.78516695,  0.31182476,  0.76893158,  0.57736093,  0.49691901,\n",
              "        0.5169739 ,  0.72674435,  0.24476668,  0.24983819,  0.39856455,\n",
              "        0.79327216,  0.49002542,  0.60434842,  0.23229708,  0.56880589,\n",
              "        0.44831909,  0.35600376,  0.51632933,  0.43120016,  0.5912372 ,\n",
              "        0.4975355 ,  0.4999884 ,  0.70036248,  0.57264869,  0.42606376,\n",
              "        0.6145329 ,  0.73873804,  0.28712229,  0.7819926 ,  0.6955783 ,\n",
              "        0.65679952,  0.54300642,  0.30286134,  0.25821265,  0.3832422 ,\n",
              "        0.24298061,  0.58626963,  0.31080093,  0.94695129,  0.71790255,\n",
              "        0.56392737,  0.18650729,  0.92410883,  0.83191792,  0.51978748,\n",
              "        0.20158975,  0.52312359,  0.54972966,  0.49429933,  0.49003935,\n",
              "        0.47719448,  0.63678331,  0.68467292,  0.83020008,  0.66423688,\n",
              "        0.32883867,  0.60244198,  0.52496063,  0.23349615,  0.43369721,\n",
              "        0.44323104,  0.52671989,  0.56617266,  0.39005884,  0.47187168,\n",
              "        0.41871635,  0.20841862,  0.8767007 ,  0.66735702,  0.36495663,\n",
              "        0.4845724 ,  0.1927011 ,  0.39316956,  0.40301688,  0.53453642,\n",
              "        0.32511515,  0.33885626,  0.51962541,  0.8881945 ,  0.4432925 ,\n",
              "        0.69316573,  0.36024415,  0.24936466,  0.65979265,  0.131273  ,\n",
              "        0.17578207,  0.63403796,  0.56521702,  0.73415847,  0.38680381,\n",
              "        0.19463409,  0.73321699,  0.71369677,  0.07934505,  0.36899467,\n",
              "        0.97517904,  0.33442598,  0.61798282,  0.60672756,  0.96306524,\n",
              "        0.60577122,  0.82186245,  0.30044185,  0.16361035,  0.69321044,\n",
              "        0.90306321,  0.39408449,  0.26093345,  0.71079593,  0.75354687,\n",
              "        0.46319944,  0.83077693,  0.44962804,  0.48742725, -0.0560295 ,\n",
              "        0.45910183,  0.33971115,  0.55067795,  0.50646467,  0.58086355,\n",
              "        0.53316311,  0.73652232,  0.59744523,  0.61221591,  0.64628816,\n",
              "        0.46251086,  0.69531814,  0.64206002,  0.25502824,  0.53459202,\n",
              "        0.68195792,  0.50306992,  0.5662317 ,  0.30847861,  0.64618464,\n",
              "        0.53524581,  0.58759002,  0.80055581,  0.77377676,  0.62090381,\n",
              "        0.13325258,  0.51982281,  0.63275308,  0.74366949,  0.27908495,\n",
              "        0.59907021,  0.84088842,  0.31456218,  0.24537715,  0.4986647 ,\n",
              "        0.39065868,  0.64513306,  0.81960992,  0.24786228,  0.2718698 ,\n",
              "        0.45155305,  0.25000652,  0.40111539,  0.37143406,  0.20938825,\n",
              "        0.34792871,  0.50618505,  0.58684128,  0.62595657,  0.46576602,\n",
              "        0.62293626,  0.51209886,  0.68976759,  0.68080316,  0.60291985,\n",
              "        0.3176482 ,  0.50091207,  0.48806984,  0.31133283,  0.58289889,\n",
              "        0.2443612 ,  0.43605332,  0.44172302,  0.51499597,  0.32080079,\n",
              "        0.50279575,  0.36789867,  0.40546365,  0.65075129,  0.85503488,\n",
              "        0.44848193,  0.46136724,  0.51082194,  0.44378745,  0.72937771,\n",
              "        0.54001858,  0.91387491,  0.47481814,  0.25544133,  0.48681058,\n",
              "        0.38342767,  0.82595581,  0.4921501 ,  0.48500884,  0.78046619,\n",
              "        0.36944774,  0.53299544,  0.51039667,  0.71277102,  0.44168098,\n",
              "        0.65925249,  0.57002063,  0.57762346,  0.99604227,  0.70441578,\n",
              "        0.78353914,  0.43536688,  0.30587255,  0.44138794,  0.30643931,\n",
              "        0.66429624,  0.70713435,  0.74035093,  0.24918829,  0.55328261,\n",
              "        0.66603455,  0.27076881,  0.3263654 ,  0.43380678,  0.54446611,\n",
              "        0.26067419,  0.28393098,  0.16816178,  0.81003865,  0.49789785,\n",
              "        0.4957204 ,  0.55348572,  0.53252799,  0.77732553,  0.41114938,\n",
              "        0.75003058,  0.65023866,  0.39359651,  0.22968253,  0.60130436,\n",
              "        0.65751036,  0.37794868,  0.15620131,  0.47614426,  0.67883605,\n",
              "        0.38998133,  0.61976579,  0.60258118,  0.77115449,  0.50203213,\n",
              "        0.70429424,  0.58472344,  0.39466727,  0.26861529,  0.4618279 ,\n",
              "        0.2736969 ,  0.74824051,  0.55546415,  0.51765896,  0.3795107 ,\n",
              "        0.6015575 ,  0.58067348,  0.50875104,  0.45802943,  0.40094439,\n",
              "        0.40394322,  0.56874831,  0.4202442 ,  0.34762694,  0.48317926,\n",
              "        0.29193356,  0.49700986,  0.49590146, -0.03290523,  0.41445692,\n",
              "        0.65228862,  0.76812464,  0.78439437,  0.41772219,  0.61956261,\n",
              "        0.28549286,  0.74106115,  0.69839749,  0.33441664,  0.42439352,\n",
              "        0.07089554,  0.53885552,  0.39071262,  0.52838895,  0.56843562,\n",
              "        0.5275007 ,  0.0994491 ,  0.58592195,  0.59424231,  0.62462534,\n",
              "        0.58265236,  0.47036597,  0.09990815,  0.29539191,  0.46035579,\n",
              "        0.64659613,  0.38174718,  0.5959742 ,  0.49224848,  0.61151936,\n",
              "        0.77499532,  0.34304296,  0.76099134,  0.47021182,  0.49836163,\n",
              "        0.90587169,  0.39511793,  0.36931098,  0.80930107,  0.54530313,\n",
              "        0.23605179,  0.55096904,  0.77433591,  0.85313148,  0.46837384,\n",
              "        0.36040302,  0.29703944,  0.40248109,  0.44082987,  0.97130311,\n",
              "        0.23165684,  0.38213347,  0.61357362,  0.40019653,  0.60260459,\n",
              "        0.3434893 ,  0.26500506,  0.41976918,  0.38770137,  0.43504649,\n",
              "        0.47993147,  0.12633189,  0.43576695,  0.60040792,  0.60741887,\n",
              "        1.04097151,  0.44899829,  0.57366085,  0.59231689,  0.17792116,\n",
              "        0.76054116,  0.41296209,  0.23952191,  0.53721195,  0.16308885,\n",
              "        0.98276202,  0.38215347,  0.72098697,  0.5870158 ,  0.3112582 ,\n",
              "        0.35296171,  0.64980037,  0.30580773,  0.29452818,  0.54924013,\n",
              "        0.81328864,  0.69020628,  0.49138666,  0.57153736,  0.34610126,\n",
              "        0.46506883,  0.8786101 ,  0.81327835,  0.24391886,  0.74598182,\n",
              "        0.53794205,  0.70192305,  0.63416686,  0.67205974,  0.73725086,\n",
              "        0.59097538,  0.65538805,  0.49472033,  0.45401535,  0.5920459 ,\n",
              "        0.81706162,  0.78004921,  0.17349999,  0.3785068 ,  0.28371596,\n",
              "        0.30357413,  0.23914291,  0.46368402,  0.71414567,  0.45601464,\n",
              "        0.11536688,  0.67054988,  0.85173539,  0.57700191,  0.36171295,\n",
              "        0.41874219,  0.3810146 ,  0.71600685,  0.83496207,  0.7091696 ,\n",
              "        0.31022117,  0.46292281,  0.33092398,  0.68060897,  0.68651692,\n",
              "        0.47755193,  1.00108879,  0.46692707,  0.3596449 ,  0.45696945,\n",
              "        0.61281966,  0.32630671,  0.58334966,  0.62976727,  0.61156415,\n",
              "        0.46515519,  0.15854526,  0.65989454,  0.5360316 ,  0.38653741,\n",
              "        0.65701547,  0.58116801,  0.19651426,  0.47468048,  0.40987898,\n",
              "        0.82153067,  0.51034432,  0.50677835,  0.52287291,  0.54265717,\n",
              "        0.55366325,  0.76183651,  0.48834585,  0.7706567 ,  0.633977  ,\n",
              "        0.4649063 ,  0.54157452,  0.37161594,  0.41251249,  0.39030969,\n",
              "        0.49212858,  0.2533592 ,  0.26561812,  0.23903899,  0.72266244,\n",
              "        0.59676588,  0.44558932,  0.60962806,  0.54856519,  0.22075148,\n",
              "        0.39923509,  0.5281578 ,  0.62287701,  0.04073109,  0.44360822,\n",
              "        0.20576546,  0.49545121,  0.35475621,  0.80161949,  0.32351733,\n",
              "        0.71904597,  0.67308501,  0.59958566,  0.12091457,  0.71454826,\n",
              "        0.00832756,  0.57643869,  1.07182546,  0.47286424,  0.57266421,\n",
              "        0.55892806,  0.36500987,  0.37110133,  0.46673144,  0.40242635,\n",
              "        0.68157644,  0.82982111,  0.5280709 ,  0.30894318,  0.35808934,\n",
              "        0.76522013,  0.70448107,  0.55233375,  0.42966618,  0.3343616 ,\n",
              "        0.27426803,  0.77464109,  0.67290261,  0.30171664,  0.24555486,\n",
              "        0.55416067,  0.61885486,  0.56667777,  0.47494576,  0.46015212,\n",
              "        0.40865083,  0.56135911,  0.88610968,  0.72646156,  0.3037379 ,\n",
              "        0.54861496,  0.34335242,  0.69051909,  0.69342822,  0.37015136,\n",
              "        0.44192269,  0.35960542,  1.12087433,  0.310622  ,  0.4960012 ,\n",
              "        0.43589918,  0.62198557,  0.12488352,  0.43652494,  0.16896774,\n",
              "        0.62429717,  0.5783532 ,  1.00259777,  0.55875487,  0.48916259,\n",
              "        0.52783483,  0.61388827,  0.98423042,  0.49436379,  0.28930692,\n",
              "        0.6308203 ,  0.27121098,  0.74264996,  0.55177058,  0.57357064,\n",
              "        0.49956892,  0.54763345,  0.07717254,  0.51345205,  0.50300313,\n",
              "        0.42312372,  0.33403701,  0.13737358,  0.36437924,  0.74421372,\n",
              "        0.28720378,  0.45523655,  0.65207612,  0.48006102,  0.48351397,\n",
              "        0.29268767,  0.38088379,  0.82627936,  0.50452576,  0.45020527,\n",
              "        0.57229537,  0.64172708,  0.1343171 ,  0.36572441,  0.99719987,\n",
              "        0.67345115,  0.72571428,  0.4928259 ,  0.13681245,  0.41051986,\n",
              "        0.73695116,  0.4818349 ,  0.83921253,  0.31181943,  0.68509702,\n",
              "        0.88075337,  0.71858881,  0.16822795,  0.78787896,  0.7458537 ,\n",
              "        0.44541045,  0.41614753,  0.39392599,  0.74391793,  0.40639095,\n",
              "        0.77785239,  0.31535309,  0.36439717,  0.70770629,  0.17429509,\n",
              "        0.41321568,  0.66803603,  0.21164985,  0.51717579,  0.63820219,\n",
              "        0.43288468,  0.52959395,  0.64624477,  0.73753866,  0.4960783 ,\n",
              "        0.60490359,  0.58715047,  0.34119072,  0.40394469,  0.22694317,\n",
              "        0.57216562,  0.52090689,  0.38142354,  0.56050018,  0.20747065])"
            ]
          },
          "metadata": {},
          "execution_count": 26
        }
      ]
    },
    {
      "cell_type": "code",
      "source": [
        "sns.histplot(s,kde=True)"
      ],
      "metadata": {
        "colab": {
          "base_uri": "https://localhost:8080/",
          "height": 282
        },
        "id": "WhZjSkAAIn4W",
        "outputId": "8ea7af92-6ed3-4d71-fc79-8fd51bb5700d"
      },
      "execution_count": 27,
      "outputs": [
        {
          "output_type": "execute_result",
          "data": {
            "text/plain": [
              "<matplotlib.axes._subplots.AxesSubplot at 0x7f2ab1f2a610>"
            ]
          },
          "metadata": {},
          "execution_count": 27
        },
        {
          "output_type": "display_data",
          "data": {
            "text/plain": [
              "<Figure size 432x288 with 1 Axes>"
            ],
            "image/png": "[encoded data removed]"
          },
          "metadata": {
            "needs_background": "light"
          }
        }
      ]
    },
    {
      "cell_type": "markdown",
      "source": [
        "Other Distribuiton\n",
        "Log Normal Distribution,Power Law Distribution"
      ],
      "metadata": {
        "id": "gbM9NpreI15l"
      }
    },
    {
      "cell_type": "code",
      "source": [
        "mu,sigma=3.,1 #mean and standad deviation"
      ],
      "metadata": {
        "id": "4-lNudpXIv79"
      },
      "execution_count": 28,
      "outputs": []
    },
    {
      "cell_type": "code",
      "source": [
        "\n",
        "s=np.random.lognormal(mu,sigma,1000)"
      ],
      "metadata": {
        "id": "cu0hN6H8I_St"
      },
      "execution_count": 30,
      "outputs": []
    },
    {
      "cell_type": "code",
      "source": [
        "sns.histplot(s,kde=True)"
      ],
      "metadata": {
        "colab": {
          "base_uri": "https://localhost:8080/",
          "height": 282
        },
        "id": "4j_H5ZiLJOh0",
        "outputId": "e5fa564e-40e6-43b0-feca-a2e0e7ffc1c2"
      },
      "execution_count": 31,
      "outputs": [
        {
          "output_type": "execute_result",
          "data": {
            "text/plain": [
              "<matplotlib.axes._subplots.AxesSubplot at 0x7f2ab1468ad0>"
            ]
          },
          "metadata": {},
          "execution_count": 31
        },
        {
          "output_type": "display_data",
          "data": {
            "text/plain": [
              "<Figure size 432x288 with 1 Axes>"
            ],
            "image/png": "[encoded data removed]"
          },
          "metadata": {
            "needs_background": "light"
          }
        }
      ]
    },
    {
      "cell_type": "code",
      "source": [
        "sns.histplot(np.log(s),kde=True)"
      ],
      "metadata": {
        "colab": {
          "base_uri": "https://localhost:8080/",
          "height": 282
        },
        "id": "KluFykqvJRPu",
        "outputId": "1c5e2b0a-32af-4433-ed5b-8227ff6e721d"
      },
      "execution_count": 32,
      "outputs": [
        {
          "output_type": "execute_result",
          "data": {
            "text/plain": [
              "<matplotlib.axes._subplots.AxesSubplot at 0x7f2ab1304c90>"
            ]
          },
          "metadata": {},
          "execution_count": 32
        },
        {
          "output_type": "display_data",
          "data": {
            "text/plain": [
              "<Figure size 432x288 with 1 Axes>"
            ],
            "image/png": "[encoded data removed]"
          },
          "metadata": {
            "needs_background": "light"
          }
        }
      ]
    },
    {
      "cell_type": "markdown",
      "source": [
        "Check whether Disstribution is Normal Distribution"
      ],
      "metadata": {
        "id": "VCsb4o6kJ5_t"
      }
    },
    {
      "cell_type": "code",
      "source": [
        "#### If you want to check whether feature is guassian or normal distributed\n",
        "#### Q-Q plot\n",
        "import matplotlib.pyplot as plt\n",
        "import scipy.stats as stat\n",
        "import pylab\n",
        "def plot_data(sample):\n",
        "    plt.figure(figsize=(10,6))\n",
        "    plt.subplot(1,2,1)\n",
        "    sns.histplot(sample)\n",
        "    plt.subplot(1,2,2)\n",
        "    stat.probplot(sample,dist='norm',plot=pylab)\n",
        "    plt.show()\n"
      ],
      "metadata": {
        "id": "7KlLkFgIJVqb"
      },
      "execution_count": 33,
      "outputs": []
    },
    {
      "cell_type": "code",
      "source": [
        "## create a normal distributed data\n",
        "s=np.random.normal(0.5,0.2,1000)\n",
        "plot_data(s)"
      ],
      "metadata": {
        "colab": {
          "base_uri": "https://localhost:8080/",
          "height": 404
        },
        "id": "TiGHH_78KAzS",
        "outputId": "2725813e-23a1-4a31-e9b3-a50d551a969c"
      },
      "execution_count": 34,
      "outputs": [
        {
          "output_type": "display_data",
          "data": {
            "text/plain": [
              "<Figure size 720x432 with 2 Axes>"
            ],
            "image/png": "[encoded data removed]"
          },
          "metadata": {
            "needs_background": "light"
          }
        }
      ]
    },
    {
      "cell_type": "code",
      "source": [
        "plot_data(df['sepal_width'])"
      ],
      "metadata": {
        "colab": {
          "base_uri": "https://localhost:8080/",
          "height": 405
        },
        "id": "Im_SC9AKKEzJ",
        "outputId": "b21ab520-95ef-47d8-b0f5-c1a1f623b8d8"
      },
      "execution_count": 35,
      "outputs": [
        {
          "output_type": "display_data",
          "data": {
            "text/plain": [
              "<Figure size 720x432 with 2 Axes>"
            ],
            "image/png": "[encoded data removed]"
          },
          "metadata": {
            "needs_background": "light"
          }
        }
      ]
    },
    {
      "cell_type": "code",
      "source": [
        "mu, sigma = 3., 1. # mean and standard deviation\n",
        "sample = np.random.lognormal(mu, sigma, 100)"
      ],
      "metadata": {
        "id": "IfqFhDEpKJEB"
      },
      "execution_count": 36,
      "outputs": []
    },
    {
      "cell_type": "code",
      "source": [
        "def plot_data_log(sample):\n",
        "    plt.figure(figsize=(10,6))\n",
        "    plt.subplot(1,2,1)\n",
        "    sns.histplot(sample)\n",
        "    plt.subplot(1,2,2)\n",
        "    stat.probplot(np.log(sample),dist='norm',plot=pylab)\n",
        "    plt.show()"
      ],
      "metadata": {
        "id": "xeNPbPPBKN0I"
      },
      "execution_count": 37,
      "outputs": []
    },
    {
      "cell_type": "code",
      "source": [
        "plot_data_log(sample)"
      ],
      "metadata": {
        "colab": {
          "base_uri": "https://localhost:8080/",
          "height": 404
        },
        "id": "RbRQgugQKQAi",
        "outputId": "4742370d-cd27-4fb0-b44b-3419078a654a"
      },
      "execution_count": 38,
      "outputs": [
        {
          "output_type": "display_data",
          "data": {
            "text/plain": [
              "<Figure size 720x432 with 2 Axes>"
            ],
            "image/png": "[encoded data removed]"
          },
          "metadata": {
            "needs_background": "light"
          }
        }
      ]
    },
    {
      "cell_type": "markdown",
      "source": [
        "Pearson and Sperman Rank Correlation"
      ],
      "metadata": {
        "id": "rdEniUIzKU2W"
      }
    },
    {
      "cell_type": "code",
      "source": [
        "df=sns.load_dataset('tips')"
      ],
      "metadata": {
        "id": "j6n5Wl6eKV08"
      },
      "execution_count": 39,
      "outputs": []
    },
    {
      "cell_type": "code",
      "source": [
        "df.head()"
      ],
      "metadata": {
        "colab": {
          "base_uri": "https://localhost:8080/",
          "height": 206
        },
        "id": "s9cmhjXLKYg_",
        "outputId": "f752067e-0bb7-41dd-cbe2-0b99effaa3a3"
      },
      "execution_count": 40,
      "outputs": [
        {
          "output_type": "execute_result",
          "data": {
            "text/plain": [
              "   total_bill   tip     sex smoker  day    time  size\n",
              "0       16.99  1.01  Female     No  Sun  Dinner     2\n",
              "1       10.34  1.66    Male     No  Sun  Dinner     3\n",
              "2       21.01  3.50    Male     No  Sun  Dinner     3\n",
              "3       23.68  3.31    Male     No  Sun  Dinner     2\n",
              "4       24.59  3.61  Female     No  Sun  Dinner     4"
            ],
            "text/html": [
              "\n",
              "  <div id=\"df-c381e9b7-d471-4098-b4f4-74bf2c45ebe3\">\n",
              "    <div class=\"colab-df-container\">\n",
              "      <div>\n",
              "<style scoped>\n",
              "    .dataframe tbody tr th:only-of-type {\n",
              "        vertical-align: middle;\n",
              "    }\n",
              "\n",
              "    .dataframe tbody tr th {\n",
              "        vertical-align: top;\n",
              "    }\n",
              "\n",
              "    .dataframe thead th {\n",
              "        text-align: right;\n",
              "    }\n",
              "</style>\n",
              "<table border=\"1\" class=\"dataframe\">\n",
              "  <thead>\n",
              "    <tr style=\"text-align: right;\">\n",
              "      <th></th>\n",
              "      <th>total_bill</th>\n",
              "      <th>tip</th>\n",
              "      <th>sex</th>\n",
              "      <th>smoker</th>\n",
              "      <th>day</th>\n",
              "      <th>time</th>\n",
              "      <th>size</th>\n",
              "    </tr>\n",
              "  </thead>\n",
              "  <tbody>\n",
              "    <tr>\n",
              "      <th>0</th>\n",
              "      <td>16.99</td>\n",
              "      <td>1.01</td>\n",
              "      <td>Female</td>\n",
              "      <td>No</td>\n",
              "      <td>Sun</td>\n",
              "      <td>Dinner</td>\n",
              "      <td>2</td>\n",
              "    </tr>\n",
              "    <tr>\n",
              "      <th>1</th>\n",
              "      <td>10.34</td>\n",
              "      <td>1.66</td>\n",
              "      <td>Male</td>\n",
              "      <td>No</td>\n",
              "      <td>Sun</td>\n",
              "      <td>Dinner</td>\n",
              "      <td>3</td>\n",
              "    </tr>\n",
              "    <tr>\n",
              "      <th>2</th>\n",
              "      <td>21.01</td>\n",
              "      <td>3.50</td>\n",
              "      <td>Male</td>\n",
              "      <td>No</td>\n",
              "      <td>Sun</td>\n",
              "      <td>Dinner</td>\n",
              "      <td>3</td>\n",
              "    </tr>\n",
              "    <tr>\n",
              "      <th>3</th>\n",
              "      <td>23.68</td>\n",
              "      <td>3.31</td>\n",
              "      <td>Male</td>\n",
              "      <td>No</td>\n",
              "      <td>Sun</td>\n",
              "      <td>Dinner</td>\n",
              "      <td>2</td>\n",
              "    </tr>\n",
              "    <tr>\n",
              "      <th>4</th>\n",
              "      <td>24.59</td>\n",
              "      <td>3.61</td>\n",
              "      <td>Female</td>\n",
              "      <td>No</td>\n",
              "      <td>Sun</td>\n",
              "      <td>Dinner</td>\n",
              "      <td>4</td>\n",
              "    </tr>\n",
              "  </tbody>\n",
              "</table>\n",
              "</div>\n",
              "      <button class=\"colab-df-convert\" onclick=\"convertToInteractive('df-c381e9b7-d471-4098-b4f4-74bf2c45ebe3')\"\n",
              "              title=\"Convert this dataframe to an interactive table.\"\n",
              "              style=\"display:none;\">\n",
              "        \n",
              "  <svg xmlns=\"http://www.w3.org/2000/svg\" height=\"24px\"viewBox=\"0 0 24 24\"\n",
              "       width=\"24px\">\n",
              "    <path d=\"M0 0h24v24H0V0z\" fill=\"none\"/>\n",
              "    <path d=\"M18.56 5.44l.94 2.06.94-2.06 2.06-.94-2.06-.94-.94-2.06-.94 2.06-2.06.94zm-11 1L8.5 8.5l.94-2.06 2.06-.94-2.06-.94L8.5 2.5l-.94 2.06-2.06.94zm10 10l.94 2.06.94-2.06 2.06-.94-2.06-.94-.94-2.06-.94 2.06-2.06.94z\"/><path d=\"M17.41 7.96l-1.37-1.37c-.4-.4-.92-.59-1.43-.59-.52 0-1.04.2-1.43.59L10.3 9.45l-7.72 7.72c-.78.78-.78 2.05 0 2.83L4 21.41c.39.39.9.59 1.41.59.51 0 1.02-.2 1.41-.59l7.78-7.78 2.81-2.81c.8-.78.8-2.07 0-2.86zM5.41 20L4 18.59l7.72-7.72 1.47 1.35L5.41 20z\"/>\n",
              "  </svg>\n",
              "      </button>\n",
              "      \n",
              "  <style>\n",
              "    .colab-df-container {\n",
              "      display:flex;\n",
              "      flex-wrap:wrap;\n",
              "      gap: 12px;\n",
              "    }\n",
              "\n",
              "    .colab-df-convert {\n",
              "      background-color: #E8F0FE;\n",
              "      border: none;\n",
              "      border-radius: 50%;\n",
              "      cursor: pointer;\n",
              "      display: none;\n",
              "      fill: #1967D2;\n",
              "      height: 32px;\n",
              "      padding: 0 0 0 0;\n",
              "      width: 32px;\n",
              "    }\n",
              "\n",
              "    .colab-df-convert:hover {\n",
              "      background-color: #E2EBFA;\n",
              "      box-shadow: 0px 1px 2px rgba(60, 64, 67, 0.3), 0px 1px 3px 1px rgba(60, 64, 67, 0.15);\n",
              "      fill: #174EA6;\n",
              "    }\n",
              "\n",
              "    [theme=dark] .colab-df-convert {\n",
              "      background-color: #3B4455;\n",
              "      fill: #D2E3FC;\n",
              "    }\n",
              "\n",
              "    [theme=dark] .colab-df-convert:hover {\n",
              "      background-color: #434B5C;\n",
              "      box-shadow: 0px 1px 3px 1px rgba(0, 0, 0, 0.15);\n",
              "      filter: drop-shadow(0px 1px 2px rgba(0, 0, 0, 0.3));\n",
              "      fill: #FFFFFF;\n",
              "    }\n",
              "  </style>\n",
              "\n",
              "      <script>\n",
              "        const buttonEl =\n",
              "          document.querySelector('#df-c381e9b7-d471-4098-b4f4-74bf2c45ebe3 button.colab-df-convert');\n",
              "        buttonEl.style.display =\n",
              "          google.colab.kernel.accessAllowed ? 'block' : 'none';\n",
              "\n",
              "        async function convertToInteractive(key) {\n",
              "          const element = document.querySelector('#df-c381e9b7-d471-4098-b4f4-74bf2c45ebe3');\n",
              "          const dataTable =\n",
              "            await google.colab.kernel.invokeFunction('convertToInteractive',\n",
              "                                                     [key], {});\n",
              "          if (!dataTable) return;\n",
              "\n",
              "          const docLinkHtml = 'Like what you see? Visit the ' +\n",
              "            '<a target=\"_blank\" href=https://colab.research.google.com/notebooks/data_table.ipynb>data table notebook</a>'\n",
              "            + ' to learn more about interactive tables.';\n",
              "          element.innerHTML = '';\n",
              "          dataTable['output_type'] = 'display_data';\n",
              "          await google.colab.output.renderOutput(dataTable, element);\n",
              "          const docLink = document.createElement('div');\n",
              "          docLink.innerHTML = docLinkHtml;\n",
              "          element.appendChild(docLink);\n",
              "        }\n",
              "      </script>\n",
              "    </div>\n",
              "  </div>\n",
              "  "
            ]
          },
          "metadata": {},
          "execution_count": 40
        }
      ]
    },
    {
      "cell_type": "code",
      "source": [
        "import pandas as pd"
      ],
      "metadata": {
        "id": "EdHwdQuCKaWM"
      },
      "execution_count": 41,
      "outputs": []
    },
    {
      "cell_type": "code",
      "source": [
        "df.corr()\n",
        "\n"
      ],
      "metadata": {
        "colab": {
          "base_uri": "https://localhost:8080/",
          "height": 143
        },
        "id": "WSlHim9TKb7Q",
        "outputId": "e80c07ee-4e39-46b5-98fb-4d543e6c3357"
      },
      "execution_count": 42,
      "outputs": [
        {
          "output_type": "execute_result",
          "data": {
            "text/plain": [
              "            total_bill       tip      size\n",
              "total_bill    1.000000  0.675734  0.598315\n",
              "tip           0.675734  1.000000  0.489299\n",
              "size          0.598315  0.489299  1.000000"
            ],
            "text/html": [
              "\n",
              "  <div id=\"df-743b6c7f-0680-4f4a-b80e-eff090f239b0\">\n",
              "    <div class=\"colab-df-container\">\n",
              "      <div>\n",
              "<style scoped>\n",
              "    .dataframe tbody tr th:only-of-type {\n",
              "        vertical-align: middle;\n",
              "    }\n",
              "\n",
              "    .dataframe tbody tr th {\n",
              "        vertical-align: top;\n",
              "    }\n",
              "\n",
              "    .dataframe thead th {\n",
              "        text-align: right;\n",
              "    }\n",
              "</style>\n",
              "<table border=\"1\" class=\"dataframe\">\n",
              "  <thead>\n",
              "    <tr style=\"text-align: right;\">\n",
              "      <th></th>\n",
              "      <th>total_bill</th>\n",
              "      <th>tip</th>\n",
              "      <th>size</th>\n",
              "    </tr>\n",
              "  </thead>\n",
              "  <tbody>\n",
              "    <tr>\n",
              "      <th>total_bill</th>\n",
              "      <td>1.000000</td>\n",
              "      <td>0.675734</td>\n",
              "      <td>0.598315</td>\n",
              "    </tr>\n",
              "    <tr>\n",
              "      <th>tip</th>\n",
              "      <td>0.675734</td>\n",
              "      <td>1.000000</td>\n",
              "      <td>0.489299</td>\n",
              "    </tr>\n",
              "    <tr>\n",
              "      <th>size</th>\n",
              "      <td>0.598315</td>\n",
              "      <td>0.489299</td>\n",
              "      <td>1.000000</td>\n",
              "    </tr>\n",
              "  </tbody>\n",
              "</table>\n",
              "</div>\n",
              "      <button class=\"colab-df-convert\" onclick=\"convertToInteractive('df-743b6c7f-0680-4f4a-b80e-eff090f239b0')\"\n",
              "              title=\"Convert this dataframe to an interactive table.\"\n",
              "              style=\"display:none;\">\n",
              "        \n",
              "  <svg xmlns=\"http://www.w3.org/2000/svg\" height=\"24px\"viewBox=\"0 0 24 24\"\n",
              "       width=\"24px\">\n",
              "    <path d=\"M0 0h24v24H0V0z\" fill=\"none\"/>\n",
              "    <path d=\"M18.56 5.44l.94 2.06.94-2.06 2.06-.94-2.06-.94-.94-2.06-.94 2.06-2.06.94zm-11 1L8.5 8.5l.94-2.06 2.06-.94-2.06-.94L8.5 2.5l-.94 2.06-2.06.94zm10 10l.94 2.06.94-2.06 2.06-.94-2.06-.94-.94-2.06-.94 2.06-2.06.94z\"/><path d=\"M17.41 7.96l-1.37-1.37c-.4-.4-.92-.59-1.43-.59-.52 0-1.04.2-1.43.59L10.3 9.45l-7.72 7.72c-.78.78-.78 2.05 0 2.83L4 21.41c.39.39.9.59 1.41.59.51 0 1.02-.2 1.41-.59l7.78-7.78 2.81-2.81c.8-.78.8-2.07 0-2.86zM5.41 20L4 18.59l7.72-7.72 1.47 1.35L5.41 20z\"/>\n",
              "  </svg>\n",
              "      </button>\n",
              "      \n",
              "  <style>\n",
              "    .colab-df-container {\n",
              "      display:flex;\n",
              "      flex-wrap:wrap;\n",
              "      gap: 12px;\n",
              "    }\n",
              "\n",
              "    .colab-df-convert {\n",
              "      background-color: #E8F0FE;\n",
              "      border: none;\n",
              "      border-radius: 50%;\n",
              "      cursor: pointer;\n",
              "      display: none;\n",
              "      fill: #1967D2;\n",
              "      height: 32px;\n",
              "      padding: 0 0 0 0;\n",
              "      width: 32px;\n",
              "    }\n",
              "\n",
              "    .colab-df-convert:hover {\n",
              "      background-color: #E2EBFA;\n",
              "      box-shadow: 0px 1px 2px rgba(60, 64, 67, 0.3), 0px 1px 3px 1px rgba(60, 64, 67, 0.15);\n",
              "      fill: #174EA6;\n",
              "    }\n",
              "\n",
              "    [theme=dark] .colab-df-convert {\n",
              "      background-color: #3B4455;\n",
              "      fill: #D2E3FC;\n",
              "    }\n",
              "\n",
              "    [theme=dark] .colab-df-convert:hover {\n",
              "      background-color: #434B5C;\n",
              "      box-shadow: 0px 1px 3px 1px rgba(0, 0, 0, 0.15);\n",
              "      filter: drop-shadow(0px 1px 2px rgba(0, 0, 0, 0.3));\n",
              "      fill: #FFFFFF;\n",
              "    }\n",
              "  </style>\n",
              "\n",
              "      <script>\n",
              "        const buttonEl =\n",
              "          document.querySelector('#df-743b6c7f-0680-4f4a-b80e-eff090f239b0 button.colab-df-convert');\n",
              "        buttonEl.style.display =\n",
              "          google.colab.kernel.accessAllowed ? 'block' : 'none';\n",
              "\n",
              "        async function convertToInteractive(key) {\n",
              "          const element = document.querySelector('#df-743b6c7f-0680-4f4a-b80e-eff090f239b0');\n",
              "          const dataTable =\n",
              "            await google.colab.kernel.invokeFunction('convertToInteractive',\n",
              "                                                     [key], {});\n",
              "          if (!dataTable) return;\n",
              "\n",
              "          const docLinkHtml = 'Like what you see? Visit the ' +\n",
              "            '<a target=\"_blank\" href=https://colab.research.google.com/notebooks/data_table.ipynb>data table notebook</a>'\n",
              "            + ' to learn more about interactive tables.';\n",
              "          element.innerHTML = '';\n",
              "          dataTable['output_type'] = 'display_data';\n",
              "          await google.colab.output.renderOutput(dataTable, element);\n",
              "          const docLink = document.createElement('div');\n",
              "          docLink.innerHTML = docLinkHtml;\n",
              "          element.appendChild(docLink);\n",
              "        }\n",
              "      </script>\n",
              "    </div>\n",
              "  </div>\n",
              "  "
            ]
          },
          "metadata": {},
          "execution_count": 42
        }
      ]
    },
    {
      "cell_type": "code",
      "source": [
        "sns.pairplot(df)"
      ],
      "metadata": {
        "colab": {
          "base_uri": "https://localhost:8080/",
          "height": 567
        },
        "id": "pItvO0JrKfbS",
        "outputId": "58aec047-1c32-447e-fc30-7ea16830c440"
      },
      "execution_count": 43,
      "outputs": [
        {
          "output_type": "execute_result",
          "data": {
            "text/plain": [
              "<seaborn.axisgrid.PairGrid at 0x7f2ab0f2f950>"
            ]
          },
          "metadata": {},
          "execution_count": 43
        },
        {
          "output_type": "display_data",
          "data": {
            "text/plain": [
              "<Figure size 540x540 with 12 Axes>"
            ],
            "image/png": "[encoded data removed]"
          },
          "metadata": {
            "needs_background": "light"
          }
        }
      ]
    },
    {
      "cell_type": "code",
      "source": [],
      "metadata": {
        "id": "5N-wm_ZaKhRX"
      },
      "execution_count": 43,
      "outputs": []
    }
  ]
}